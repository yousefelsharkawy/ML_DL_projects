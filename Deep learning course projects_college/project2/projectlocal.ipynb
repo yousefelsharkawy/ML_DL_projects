{
 "cells": [
  {
   "cell_type": "markdown",
   "id": "181ad0d0",
   "metadata": {},
   "source": [
    "# project 2\n",
    "\n",
    "# Name: yousef mohamed elsharkawy\n",
    "\n",
    "# Id: 18Q4486"
   ]
  },
  {
   "cell_type": "markdown",
   "id": "1dc2f5b3",
   "metadata": {},
   "source": [
    "## read the data"
   ]
  },
  {
   "cell_type": "code",
   "execution_count": 1,
   "id": "139f8aab",
   "metadata": {},
   "outputs": [],
   "source": [
    "import pandas as pd"
   ]
  },
  {
   "cell_type": "code",
   "execution_count": 2,
   "id": "15c13262",
   "metadata": {},
   "outputs": [
    {
     "data": {
      "text/html": [
       "<div>\n",
       "<style scoped>\n",
       "    .dataframe tbody tr th:only-of-type {\n",
       "        vertical-align: middle;\n",
       "    }\n",
       "\n",
       "    .dataframe tbody tr th {\n",
       "        vertical-align: top;\n",
       "    }\n",
       "\n",
       "    .dataframe thead th {\n",
       "        text-align: right;\n",
       "    }\n",
       "</style>\n",
       "<table border=\"1\" class=\"dataframe\">\n",
       "  <thead>\n",
       "    <tr style=\"text-align: right;\">\n",
       "      <th></th>\n",
       "      <th>label</th>\n",
       "      <th>pixel1</th>\n",
       "      <th>pixel2</th>\n",
       "      <th>pixel3</th>\n",
       "      <th>pixel4</th>\n",
       "      <th>pixel5</th>\n",
       "      <th>pixel6</th>\n",
       "      <th>pixel7</th>\n",
       "      <th>pixel8</th>\n",
       "      <th>pixel9</th>\n",
       "      <th>...</th>\n",
       "      <th>pixel775</th>\n",
       "      <th>pixel776</th>\n",
       "      <th>pixel777</th>\n",
       "      <th>pixel778</th>\n",
       "      <th>pixel779</th>\n",
       "      <th>pixel780</th>\n",
       "      <th>pixel781</th>\n",
       "      <th>pixel782</th>\n",
       "      <th>pixel783</th>\n",
       "      <th>pixel784</th>\n",
       "    </tr>\n",
       "  </thead>\n",
       "  <tbody>\n",
       "    <tr>\n",
       "      <th>0</th>\n",
       "      <td>2</td>\n",
       "      <td>0</td>\n",
       "      <td>0</td>\n",
       "      <td>0</td>\n",
       "      <td>0</td>\n",
       "      <td>0</td>\n",
       "      <td>0</td>\n",
       "      <td>0</td>\n",
       "      <td>0</td>\n",
       "      <td>0</td>\n",
       "      <td>...</td>\n",
       "      <td>0</td>\n",
       "      <td>0</td>\n",
       "      <td>0</td>\n",
       "      <td>0</td>\n",
       "      <td>0</td>\n",
       "      <td>0</td>\n",
       "      <td>0</td>\n",
       "      <td>0</td>\n",
       "      <td>0</td>\n",
       "      <td>0</td>\n",
       "    </tr>\n",
       "    <tr>\n",
       "      <th>1</th>\n",
       "      <td>9</td>\n",
       "      <td>0</td>\n",
       "      <td>0</td>\n",
       "      <td>0</td>\n",
       "      <td>0</td>\n",
       "      <td>0</td>\n",
       "      <td>0</td>\n",
       "      <td>0</td>\n",
       "      <td>0</td>\n",
       "      <td>0</td>\n",
       "      <td>...</td>\n",
       "      <td>0</td>\n",
       "      <td>0</td>\n",
       "      <td>0</td>\n",
       "      <td>0</td>\n",
       "      <td>0</td>\n",
       "      <td>0</td>\n",
       "      <td>0</td>\n",
       "      <td>0</td>\n",
       "      <td>0</td>\n",
       "      <td>0</td>\n",
       "    </tr>\n",
       "    <tr>\n",
       "      <th>2</th>\n",
       "      <td>6</td>\n",
       "      <td>0</td>\n",
       "      <td>0</td>\n",
       "      <td>0</td>\n",
       "      <td>0</td>\n",
       "      <td>0</td>\n",
       "      <td>0</td>\n",
       "      <td>0</td>\n",
       "      <td>5</td>\n",
       "      <td>0</td>\n",
       "      <td>...</td>\n",
       "      <td>0</td>\n",
       "      <td>0</td>\n",
       "      <td>0</td>\n",
       "      <td>30</td>\n",
       "      <td>43</td>\n",
       "      <td>0</td>\n",
       "      <td>0</td>\n",
       "      <td>0</td>\n",
       "      <td>0</td>\n",
       "      <td>0</td>\n",
       "    </tr>\n",
       "    <tr>\n",
       "      <th>3</th>\n",
       "      <td>0</td>\n",
       "      <td>0</td>\n",
       "      <td>0</td>\n",
       "      <td>0</td>\n",
       "      <td>1</td>\n",
       "      <td>2</td>\n",
       "      <td>0</td>\n",
       "      <td>0</td>\n",
       "      <td>0</td>\n",
       "      <td>0</td>\n",
       "      <td>...</td>\n",
       "      <td>3</td>\n",
       "      <td>0</td>\n",
       "      <td>0</td>\n",
       "      <td>0</td>\n",
       "      <td>0</td>\n",
       "      <td>1</td>\n",
       "      <td>0</td>\n",
       "      <td>0</td>\n",
       "      <td>0</td>\n",
       "      <td>0</td>\n",
       "    </tr>\n",
       "    <tr>\n",
       "      <th>4</th>\n",
       "      <td>3</td>\n",
       "      <td>0</td>\n",
       "      <td>0</td>\n",
       "      <td>0</td>\n",
       "      <td>0</td>\n",
       "      <td>0</td>\n",
       "      <td>0</td>\n",
       "      <td>0</td>\n",
       "      <td>0</td>\n",
       "      <td>0</td>\n",
       "      <td>...</td>\n",
       "      <td>0</td>\n",
       "      <td>0</td>\n",
       "      <td>0</td>\n",
       "      <td>0</td>\n",
       "      <td>0</td>\n",
       "      <td>0</td>\n",
       "      <td>0</td>\n",
       "      <td>0</td>\n",
       "      <td>0</td>\n",
       "      <td>0</td>\n",
       "    </tr>\n",
       "  </tbody>\n",
       "</table>\n",
       "<p>5 rows × 785 columns</p>\n",
       "</div>"
      ],
      "text/plain": [
       "   label  pixel1  pixel2  pixel3  pixel4  pixel5  pixel6  pixel7  pixel8  \\\n",
       "0      2       0       0       0       0       0       0       0       0   \n",
       "1      9       0       0       0       0       0       0       0       0   \n",
       "2      6       0       0       0       0       0       0       0       5   \n",
       "3      0       0       0       0       1       2       0       0       0   \n",
       "4      3       0       0       0       0       0       0       0       0   \n",
       "\n",
       "   pixel9  ...  pixel775  pixel776  pixel777  pixel778  pixel779  pixel780  \\\n",
       "0       0  ...         0         0         0         0         0         0   \n",
       "1       0  ...         0         0         0         0         0         0   \n",
       "2       0  ...         0         0         0        30        43         0   \n",
       "3       0  ...         3         0         0         0         0         1   \n",
       "4       0  ...         0         0         0         0         0         0   \n",
       "\n",
       "   pixel781  pixel782  pixel783  pixel784  \n",
       "0         0         0         0         0  \n",
       "1         0         0         0         0  \n",
       "2         0         0         0         0  \n",
       "3         0         0         0         0  \n",
       "4         0         0         0         0  \n",
       "\n",
       "[5 rows x 785 columns]"
      ]
     },
     "execution_count": 2,
     "metadata": {},
     "output_type": "execute_result"
    }
   ],
   "source": [
    "df = pd.read_csv('fashion-mnist_train.csv')\n",
    "df.head()"
   ]
  },
  {
   "cell_type": "markdown",
   "id": "7fa7069a",
   "metadata": {},
   "source": [
    "## Describe the data "
   ]
  },
  {
   "cell_type": "code",
   "execution_count": 3,
   "id": "0fe3b2a6",
   "metadata": {},
   "outputs": [
    {
     "data": {
      "text/plain": [
       "(60000, 785)"
      ]
     },
     "execution_count": 3,
     "metadata": {},
     "output_type": "execute_result"
    }
   ],
   "source": [
    "df.shape"
   ]
  },
  {
   "cell_type": "code",
   "execution_count": 4,
   "id": "abd10f02",
   "metadata": {},
   "outputs": [
    {
     "data": {
      "text/plain": [
       "label       int64\n",
       "pixel1      int64\n",
       "pixel2      int64\n",
       "pixel3      int64\n",
       "pixel4      int64\n",
       "            ...  \n",
       "pixel780    int64\n",
       "pixel781    int64\n",
       "pixel782    int64\n",
       "pixel783    int64\n",
       "pixel784    int64\n",
       "Length: 785, dtype: object"
      ]
     },
     "execution_count": 4,
     "metadata": {},
     "output_type": "execute_result"
    }
   ],
   "source": [
    "df.dtypes"
   ]
  },
  {
   "cell_type": "code",
   "execution_count": 5,
   "id": "07c4df35",
   "metadata": {},
   "outputs": [
    {
     "data": {
      "text/plain": [
       "label        10\n",
       "pixel1        8\n",
       "pixel2       17\n",
       "pixel3       27\n",
       "pixel4       65\n",
       "           ... \n",
       "pixel780    251\n",
       "pixel781    244\n",
       "pixel782    233\n",
       "pixel783    185\n",
       "pixel784     65\n",
       "Length: 785, dtype: int64"
      ]
     },
     "execution_count": 5,
     "metadata": {},
     "output_type": "execute_result"
    }
   ],
   "source": [
    "df.nunique()"
   ]
  },
  {
   "cell_type": "code",
   "execution_count": 6,
   "id": "d5781cf2",
   "metadata": {},
   "outputs": [
    {
     "data": {
      "text/html": [
       "<div>\n",
       "<style scoped>\n",
       "    .dataframe tbody tr th:only-of-type {\n",
       "        vertical-align: middle;\n",
       "    }\n",
       "\n",
       "    .dataframe tbody tr th {\n",
       "        vertical-align: top;\n",
       "    }\n",
       "\n",
       "    .dataframe thead th {\n",
       "        text-align: right;\n",
       "    }\n",
       "</style>\n",
       "<table border=\"1\" class=\"dataframe\">\n",
       "  <thead>\n",
       "    <tr style=\"text-align: right;\">\n",
       "      <th></th>\n",
       "      <th>label</th>\n",
       "      <th>pixel1</th>\n",
       "      <th>pixel2</th>\n",
       "      <th>pixel3</th>\n",
       "      <th>pixel4</th>\n",
       "      <th>pixel5</th>\n",
       "      <th>pixel6</th>\n",
       "      <th>pixel7</th>\n",
       "      <th>pixel8</th>\n",
       "      <th>pixel9</th>\n",
       "      <th>...</th>\n",
       "      <th>pixel775</th>\n",
       "      <th>pixel776</th>\n",
       "      <th>pixel777</th>\n",
       "      <th>pixel778</th>\n",
       "      <th>pixel779</th>\n",
       "      <th>pixel780</th>\n",
       "      <th>pixel781</th>\n",
       "      <th>pixel782</th>\n",
       "      <th>pixel783</th>\n",
       "      <th>pixel784</th>\n",
       "    </tr>\n",
       "  </thead>\n",
       "  <tbody>\n",
       "    <tr>\n",
       "      <th>count</th>\n",
       "      <td>60000.000000</td>\n",
       "      <td>60000.000000</td>\n",
       "      <td>60000.000000</td>\n",
       "      <td>60000.000000</td>\n",
       "      <td>60000.000000</td>\n",
       "      <td>60000.000000</td>\n",
       "      <td>60000.000000</td>\n",
       "      <td>60000.000000</td>\n",
       "      <td>60000.000000</td>\n",
       "      <td>60000.000000</td>\n",
       "      <td>...</td>\n",
       "      <td>60000.000000</td>\n",
       "      <td>60000.000000</td>\n",
       "      <td>60000.000000</td>\n",
       "      <td>60000.000000</td>\n",
       "      <td>60000.000000</td>\n",
       "      <td>60000.000000</td>\n",
       "      <td>60000.000000</td>\n",
       "      <td>60000.000000</td>\n",
       "      <td>60000.000000</td>\n",
       "      <td>60000.00000</td>\n",
       "    </tr>\n",
       "    <tr>\n",
       "      <th>mean</th>\n",
       "      <td>4.500000</td>\n",
       "      <td>0.000900</td>\n",
       "      <td>0.006150</td>\n",
       "      <td>0.035333</td>\n",
       "      <td>0.101933</td>\n",
       "      <td>0.247967</td>\n",
       "      <td>0.411467</td>\n",
       "      <td>0.805767</td>\n",
       "      <td>2.198283</td>\n",
       "      <td>5.682000</td>\n",
       "      <td>...</td>\n",
       "      <td>34.625400</td>\n",
       "      <td>23.300683</td>\n",
       "      <td>16.588267</td>\n",
       "      <td>17.869433</td>\n",
       "      <td>22.814817</td>\n",
       "      <td>17.911483</td>\n",
       "      <td>8.520633</td>\n",
       "      <td>2.753300</td>\n",
       "      <td>0.855517</td>\n",
       "      <td>0.07025</td>\n",
       "    </tr>\n",
       "    <tr>\n",
       "      <th>std</th>\n",
       "      <td>2.872305</td>\n",
       "      <td>0.094689</td>\n",
       "      <td>0.271011</td>\n",
       "      <td>1.222324</td>\n",
       "      <td>2.452871</td>\n",
       "      <td>4.306912</td>\n",
       "      <td>5.836188</td>\n",
       "      <td>8.215169</td>\n",
       "      <td>14.093378</td>\n",
       "      <td>23.819481</td>\n",
       "      <td>...</td>\n",
       "      <td>57.545242</td>\n",
       "      <td>48.854427</td>\n",
       "      <td>41.979611</td>\n",
       "      <td>43.966032</td>\n",
       "      <td>51.830477</td>\n",
       "      <td>45.149388</td>\n",
       "      <td>29.614859</td>\n",
       "      <td>17.397652</td>\n",
       "      <td>9.356960</td>\n",
       "      <td>2.12587</td>\n",
       "    </tr>\n",
       "    <tr>\n",
       "      <th>min</th>\n",
       "      <td>0.000000</td>\n",
       "      <td>0.000000</td>\n",
       "      <td>0.000000</td>\n",
       "      <td>0.000000</td>\n",
       "      <td>0.000000</td>\n",
       "      <td>0.000000</td>\n",
       "      <td>0.000000</td>\n",
       "      <td>0.000000</td>\n",
       "      <td>0.000000</td>\n",
       "      <td>0.000000</td>\n",
       "      <td>...</td>\n",
       "      <td>0.000000</td>\n",
       "      <td>0.000000</td>\n",
       "      <td>0.000000</td>\n",
       "      <td>0.000000</td>\n",
       "      <td>0.000000</td>\n",
       "      <td>0.000000</td>\n",
       "      <td>0.000000</td>\n",
       "      <td>0.000000</td>\n",
       "      <td>0.000000</td>\n",
       "      <td>0.00000</td>\n",
       "    </tr>\n",
       "    <tr>\n",
       "      <th>25%</th>\n",
       "      <td>2.000000</td>\n",
       "      <td>0.000000</td>\n",
       "      <td>0.000000</td>\n",
       "      <td>0.000000</td>\n",
       "      <td>0.000000</td>\n",
       "      <td>0.000000</td>\n",
       "      <td>0.000000</td>\n",
       "      <td>0.000000</td>\n",
       "      <td>0.000000</td>\n",
       "      <td>0.000000</td>\n",
       "      <td>...</td>\n",
       "      <td>0.000000</td>\n",
       "      <td>0.000000</td>\n",
       "      <td>0.000000</td>\n",
       "      <td>0.000000</td>\n",
       "      <td>0.000000</td>\n",
       "      <td>0.000000</td>\n",
       "      <td>0.000000</td>\n",
       "      <td>0.000000</td>\n",
       "      <td>0.000000</td>\n",
       "      <td>0.00000</td>\n",
       "    </tr>\n",
       "    <tr>\n",
       "      <th>50%</th>\n",
       "      <td>4.500000</td>\n",
       "      <td>0.000000</td>\n",
       "      <td>0.000000</td>\n",
       "      <td>0.000000</td>\n",
       "      <td>0.000000</td>\n",
       "      <td>0.000000</td>\n",
       "      <td>0.000000</td>\n",
       "      <td>0.000000</td>\n",
       "      <td>0.000000</td>\n",
       "      <td>0.000000</td>\n",
       "      <td>...</td>\n",
       "      <td>0.000000</td>\n",
       "      <td>0.000000</td>\n",
       "      <td>0.000000</td>\n",
       "      <td>0.000000</td>\n",
       "      <td>0.000000</td>\n",
       "      <td>0.000000</td>\n",
       "      <td>0.000000</td>\n",
       "      <td>0.000000</td>\n",
       "      <td>0.000000</td>\n",
       "      <td>0.00000</td>\n",
       "    </tr>\n",
       "    <tr>\n",
       "      <th>75%</th>\n",
       "      <td>7.000000</td>\n",
       "      <td>0.000000</td>\n",
       "      <td>0.000000</td>\n",
       "      <td>0.000000</td>\n",
       "      <td>0.000000</td>\n",
       "      <td>0.000000</td>\n",
       "      <td>0.000000</td>\n",
       "      <td>0.000000</td>\n",
       "      <td>0.000000</td>\n",
       "      <td>0.000000</td>\n",
       "      <td>...</td>\n",
       "      <td>58.000000</td>\n",
       "      <td>9.000000</td>\n",
       "      <td>0.000000</td>\n",
       "      <td>0.000000</td>\n",
       "      <td>0.000000</td>\n",
       "      <td>0.000000</td>\n",
       "      <td>0.000000</td>\n",
       "      <td>0.000000</td>\n",
       "      <td>0.000000</td>\n",
       "      <td>0.00000</td>\n",
       "    </tr>\n",
       "    <tr>\n",
       "      <th>max</th>\n",
       "      <td>9.000000</td>\n",
       "      <td>16.000000</td>\n",
       "      <td>36.000000</td>\n",
       "      <td>226.000000</td>\n",
       "      <td>164.000000</td>\n",
       "      <td>227.000000</td>\n",
       "      <td>230.000000</td>\n",
       "      <td>224.000000</td>\n",
       "      <td>255.000000</td>\n",
       "      <td>254.000000</td>\n",
       "      <td>...</td>\n",
       "      <td>255.000000</td>\n",
       "      <td>255.000000</td>\n",
       "      <td>255.000000</td>\n",
       "      <td>255.000000</td>\n",
       "      <td>255.000000</td>\n",
       "      <td>255.000000</td>\n",
       "      <td>255.000000</td>\n",
       "      <td>255.000000</td>\n",
       "      <td>255.000000</td>\n",
       "      <td>170.00000</td>\n",
       "    </tr>\n",
       "  </tbody>\n",
       "</table>\n",
       "<p>8 rows × 785 columns</p>\n",
       "</div>"
      ],
      "text/plain": [
       "              label        pixel1        pixel2        pixel3        pixel4  \\\n",
       "count  60000.000000  60000.000000  60000.000000  60000.000000  60000.000000   \n",
       "mean       4.500000      0.000900      0.006150      0.035333      0.101933   \n",
       "std        2.872305      0.094689      0.271011      1.222324      2.452871   \n",
       "min        0.000000      0.000000      0.000000      0.000000      0.000000   \n",
       "25%        2.000000      0.000000      0.000000      0.000000      0.000000   \n",
       "50%        4.500000      0.000000      0.000000      0.000000      0.000000   \n",
       "75%        7.000000      0.000000      0.000000      0.000000      0.000000   \n",
       "max        9.000000     16.000000     36.000000    226.000000    164.000000   \n",
       "\n",
       "             pixel5        pixel6        pixel7        pixel8        pixel9  \\\n",
       "count  60000.000000  60000.000000  60000.000000  60000.000000  60000.000000   \n",
       "mean       0.247967      0.411467      0.805767      2.198283      5.682000   \n",
       "std        4.306912      5.836188      8.215169     14.093378     23.819481   \n",
       "min        0.000000      0.000000      0.000000      0.000000      0.000000   \n",
       "25%        0.000000      0.000000      0.000000      0.000000      0.000000   \n",
       "50%        0.000000      0.000000      0.000000      0.000000      0.000000   \n",
       "75%        0.000000      0.000000      0.000000      0.000000      0.000000   \n",
       "max      227.000000    230.000000    224.000000    255.000000    254.000000   \n",
       "\n",
       "       ...      pixel775      pixel776      pixel777      pixel778  \\\n",
       "count  ...  60000.000000  60000.000000  60000.000000  60000.000000   \n",
       "mean   ...     34.625400     23.300683     16.588267     17.869433   \n",
       "std    ...     57.545242     48.854427     41.979611     43.966032   \n",
       "min    ...      0.000000      0.000000      0.000000      0.000000   \n",
       "25%    ...      0.000000      0.000000      0.000000      0.000000   \n",
       "50%    ...      0.000000      0.000000      0.000000      0.000000   \n",
       "75%    ...     58.000000      9.000000      0.000000      0.000000   \n",
       "max    ...    255.000000    255.000000    255.000000    255.000000   \n",
       "\n",
       "           pixel779      pixel780      pixel781      pixel782      pixel783  \\\n",
       "count  60000.000000  60000.000000  60000.000000  60000.000000  60000.000000   \n",
       "mean      22.814817     17.911483      8.520633      2.753300      0.855517   \n",
       "std       51.830477     45.149388     29.614859     17.397652      9.356960   \n",
       "min        0.000000      0.000000      0.000000      0.000000      0.000000   \n",
       "25%        0.000000      0.000000      0.000000      0.000000      0.000000   \n",
       "50%        0.000000      0.000000      0.000000      0.000000      0.000000   \n",
       "75%        0.000000      0.000000      0.000000      0.000000      0.000000   \n",
       "max      255.000000    255.000000    255.000000    255.000000    255.000000   \n",
       "\n",
       "          pixel784  \n",
       "count  60000.00000  \n",
       "mean       0.07025  \n",
       "std        2.12587  \n",
       "min        0.00000  \n",
       "25%        0.00000  \n",
       "50%        0.00000  \n",
       "75%        0.00000  \n",
       "max      170.00000  \n",
       "\n",
       "[8 rows x 785 columns]"
      ]
     },
     "execution_count": 6,
     "metadata": {},
     "output_type": "execute_result"
    }
   ],
   "source": [
    "df.describe()"
   ]
  },
  {
   "cell_type": "markdown",
   "id": "b48d5f81",
   "metadata": {},
   "source": [
    "## Clean the Data "
   ]
  },
  {
   "cell_type": "markdown",
   "id": "c23a7c1c",
   "metadata": {},
   "source": [
    "### check for missing data "
   ]
  },
  {
   "cell_type": "code",
   "execution_count": 7,
   "id": "4417e7d7",
   "metadata": {},
   "outputs": [
    {
     "name": "stdout",
     "output_type": "stream",
     "text": [
      "<class 'pandas.core.frame.DataFrame'>\n",
      "RangeIndex: 60000 entries, 0 to 59999\n",
      "Data columns (total 785 columns):\n",
      " #    Column    Non-Null Count  Dtype\n",
      "---   ------    --------------  -----\n",
      " 0    label     60000 non-null  int64\n",
      " 1    pixel1    60000 non-null  int64\n",
      " 2    pixel2    60000 non-null  int64\n",
      " 3    pixel3    60000 non-null  int64\n",
      " 4    pixel4    60000 non-null  int64\n",
      " 5    pixel5    60000 non-null  int64\n",
      " 6    pixel6    60000 non-null  int64\n",
      " 7    pixel7    60000 non-null  int64\n",
      " 8    pixel8    60000 non-null  int64\n",
      " 9    pixel9    60000 non-null  int64\n",
      " 10   pixel10   60000 non-null  int64\n",
      " 11   pixel11   60000 non-null  int64\n",
      " 12   pixel12   60000 non-null  int64\n",
      " 13   pixel13   60000 non-null  int64\n",
      " 14   pixel14   60000 non-null  int64\n",
      " 15   pixel15   60000 non-null  int64\n",
      " 16   pixel16   60000 non-null  int64\n",
      " 17   pixel17   60000 non-null  int64\n",
      " 18   pixel18   60000 non-null  int64\n",
      " 19   pixel19   60000 non-null  int64\n",
      " 20   pixel20   60000 non-null  int64\n",
      " 21   pixel21   60000 non-null  int64\n",
      " 22   pixel22   60000 non-null  int64\n",
      " 23   pixel23   60000 non-null  int64\n",
      " 24   pixel24   60000 non-null  int64\n",
      " 25   pixel25   60000 non-null  int64\n",
      " 26   pixel26   60000 non-null  int64\n",
      " 27   pixel27   60000 non-null  int64\n",
      " 28   pixel28   60000 non-null  int64\n",
      " 29   pixel29   60000 non-null  int64\n",
      " 30   pixel30   60000 non-null  int64\n",
      " 31   pixel31   60000 non-null  int64\n",
      " 32   pixel32   60000 non-null  int64\n",
      " 33   pixel33   60000 non-null  int64\n",
      " 34   pixel34   60000 non-null  int64\n",
      " 35   pixel35   60000 non-null  int64\n",
      " 36   pixel36   60000 non-null  int64\n",
      " 37   pixel37   60000 non-null  int64\n",
      " 38   pixel38   60000 non-null  int64\n",
      " 39   pixel39   60000 non-null  int64\n",
      " 40   pixel40   60000 non-null  int64\n",
      " 41   pixel41   60000 non-null  int64\n",
      " 42   pixel42   60000 non-null  int64\n",
      " 43   pixel43   60000 non-null  int64\n",
      " 44   pixel44   60000 non-null  int64\n",
      " 45   pixel45   60000 non-null  int64\n",
      " 46   pixel46   60000 non-null  int64\n",
      " 47   pixel47   60000 non-null  int64\n",
      " 48   pixel48   60000 non-null  int64\n",
      " 49   pixel49   60000 non-null  int64\n",
      " 50   pixel50   60000 non-null  int64\n",
      " 51   pixel51   60000 non-null  int64\n",
      " 52   pixel52   60000 non-null  int64\n",
      " 53   pixel53   60000 non-null  int64\n",
      " 54   pixel54   60000 non-null  int64\n",
      " 55   pixel55   60000 non-null  int64\n",
      " 56   pixel56   60000 non-null  int64\n",
      " 57   pixel57   60000 non-null  int64\n",
      " 58   pixel58   60000 non-null  int64\n",
      " 59   pixel59   60000 non-null  int64\n",
      " 60   pixel60   60000 non-null  int64\n",
      " 61   pixel61   60000 non-null  int64\n",
      " 62   pixel62   60000 non-null  int64\n",
      " 63   pixel63   60000 non-null  int64\n",
      " 64   pixel64   60000 non-null  int64\n",
      " 65   pixel65   60000 non-null  int64\n",
      " 66   pixel66   60000 non-null  int64\n",
      " 67   pixel67   60000 non-null  int64\n",
      " 68   pixel68   60000 non-null  int64\n",
      " 69   pixel69   60000 non-null  int64\n",
      " 70   pixel70   60000 non-null  int64\n",
      " 71   pixel71   60000 non-null  int64\n",
      " 72   pixel72   60000 non-null  int64\n",
      " 73   pixel73   60000 non-null  int64\n",
      " 74   pixel74   60000 non-null  int64\n",
      " 75   pixel75   60000 non-null  int64\n",
      " 76   pixel76   60000 non-null  int64\n",
      " 77   pixel77   60000 non-null  int64\n",
      " 78   pixel78   60000 non-null  int64\n",
      " 79   pixel79   60000 non-null  int64\n",
      " 80   pixel80   60000 non-null  int64\n",
      " 81   pixel81   60000 non-null  int64\n",
      " 82   pixel82   60000 non-null  int64\n",
      " 83   pixel83   60000 non-null  int64\n",
      " 84   pixel84   60000 non-null  int64\n",
      " 85   pixel85   60000 non-null  int64\n",
      " 86   pixel86   60000 non-null  int64\n",
      " 87   pixel87   60000 non-null  int64\n",
      " 88   pixel88   60000 non-null  int64\n",
      " 89   pixel89   60000 non-null  int64\n",
      " 90   pixel90   60000 non-null  int64\n",
      " 91   pixel91   60000 non-null  int64\n",
      " 92   pixel92   60000 non-null  int64\n",
      " 93   pixel93   60000 non-null  int64\n",
      " 94   pixel94   60000 non-null  int64\n",
      " 95   pixel95   60000 non-null  int64\n",
      " 96   pixel96   60000 non-null  int64\n",
      " 97   pixel97   60000 non-null  int64\n",
      " 98   pixel98   60000 non-null  int64\n",
      " 99   pixel99   60000 non-null  int64\n",
      " 100  pixel100  60000 non-null  int64\n",
      " 101  pixel101  60000 non-null  int64\n",
      " 102  pixel102  60000 non-null  int64\n",
      " 103  pixel103  60000 non-null  int64\n",
      " 104  pixel104  60000 non-null  int64\n",
      " 105  pixel105  60000 non-null  int64\n",
      " 106  pixel106  60000 non-null  int64\n",
      " 107  pixel107  60000 non-null  int64\n",
      " 108  pixel108  60000 non-null  int64\n",
      " 109  pixel109  60000 non-null  int64\n",
      " 110  pixel110  60000 non-null  int64\n",
      " 111  pixel111  60000 non-null  int64\n",
      " 112  pixel112  60000 non-null  int64\n",
      " 113  pixel113  60000 non-null  int64\n",
      " 114  pixel114  60000 non-null  int64\n",
      " 115  pixel115  60000 non-null  int64\n",
      " 116  pixel116  60000 non-null  int64\n",
      " 117  pixel117  60000 non-null  int64\n",
      " 118  pixel118  60000 non-null  int64\n",
      " 119  pixel119  60000 non-null  int64\n",
      " 120  pixel120  60000 non-null  int64\n",
      " 121  pixel121  60000 non-null  int64\n",
      " 122  pixel122  60000 non-null  int64\n",
      " 123  pixel123  60000 non-null  int64\n",
      " 124  pixel124  60000 non-null  int64\n",
      " 125  pixel125  60000 non-null  int64\n",
      " 126  pixel126  60000 non-null  int64\n",
      " 127  pixel127  60000 non-null  int64\n",
      " 128  pixel128  60000 non-null  int64\n",
      " 129  pixel129  60000 non-null  int64\n",
      " 130  pixel130  60000 non-null  int64\n",
      " 131  pixel131  60000 non-null  int64\n",
      " 132  pixel132  60000 non-null  int64\n",
      " 133  pixel133  60000 non-null  int64\n",
      " 134  pixel134  60000 non-null  int64\n",
      " 135  pixel135  60000 non-null  int64\n",
      " 136  pixel136  60000 non-null  int64\n",
      " 137  pixel137  60000 non-null  int64\n",
      " 138  pixel138  60000 non-null  int64\n",
      " 139  pixel139  60000 non-null  int64\n",
      " 140  pixel140  60000 non-null  int64\n",
      " 141  pixel141  60000 non-null  int64\n",
      " 142  pixel142  60000 non-null  int64\n",
      " 143  pixel143  60000 non-null  int64\n",
      " 144  pixel144  60000 non-null  int64\n",
      " 145  pixel145  60000 non-null  int64\n",
      " 146  pixel146  60000 non-null  int64\n",
      " 147  pixel147  60000 non-null  int64\n",
      " 148  pixel148  60000 non-null  int64\n",
      " 149  pixel149  60000 non-null  int64\n",
      " 150  pixel150  60000 non-null  int64\n",
      " 151  pixel151  60000 non-null  int64\n",
      " 152  pixel152  60000 non-null  int64\n",
      " 153  pixel153  60000 non-null  int64\n",
      " 154  pixel154  60000 non-null  int64\n",
      " 155  pixel155  60000 non-null  int64\n",
      " 156  pixel156  60000 non-null  int64\n",
      " 157  pixel157  60000 non-null  int64\n",
      " 158  pixel158  60000 non-null  int64\n",
      " 159  pixel159  60000 non-null  int64\n",
      " 160  pixel160  60000 non-null  int64\n",
      " 161  pixel161  60000 non-null  int64\n",
      " 162  pixel162  60000 non-null  int64\n",
      " 163  pixel163  60000 non-null  int64\n",
      " 164  pixel164  60000 non-null  int64\n",
      " 165  pixel165  60000 non-null  int64\n",
      " 166  pixel166  60000 non-null  int64\n",
      " 167  pixel167  60000 non-null  int64\n",
      " 168  pixel168  60000 non-null  int64\n",
      " 169  pixel169  60000 non-null  int64\n",
      " 170  pixel170  60000 non-null  int64\n",
      " 171  pixel171  60000 non-null  int64\n",
      " 172  pixel172  60000 non-null  int64\n",
      " 173  pixel173  60000 non-null  int64\n",
      " 174  pixel174  60000 non-null  int64\n",
      " 175  pixel175  60000 non-null  int64\n",
      " 176  pixel176  60000 non-null  int64\n",
      " 177  pixel177  60000 non-null  int64\n",
      " 178  pixel178  60000 non-null  int64\n",
      " 179  pixel179  60000 non-null  int64\n",
      " 180  pixel180  60000 non-null  int64\n",
      " 181  pixel181  60000 non-null  int64\n",
      " 182  pixel182  60000 non-null  int64\n",
      " 183  pixel183  60000 non-null  int64\n",
      " 184  pixel184  60000 non-null  int64\n",
      " 185  pixel185  60000 non-null  int64\n",
      " 186  pixel186  60000 non-null  int64\n",
      " 187  pixel187  60000 non-null  int64\n",
      " 188  pixel188  60000 non-null  int64\n",
      " 189  pixel189  60000 non-null  int64\n",
      " 190  pixel190  60000 non-null  int64\n",
      " 191  pixel191  60000 non-null  int64\n",
      " 192  pixel192  60000 non-null  int64\n",
      " 193  pixel193  60000 non-null  int64\n",
      " 194  pixel194  60000 non-null  int64\n",
      " 195  pixel195  60000 non-null  int64\n",
      " 196  pixel196  60000 non-null  int64\n",
      " 197  pixel197  60000 non-null  int64\n",
      " 198  pixel198  60000 non-null  int64\n",
      " 199  pixel199  60000 non-null  int64\n",
      " 200  pixel200  60000 non-null  int64\n",
      " 201  pixel201  60000 non-null  int64\n",
      " 202  pixel202  60000 non-null  int64\n",
      " 203  pixel203  60000 non-null  int64\n",
      " 204  pixel204  60000 non-null  int64\n",
      " 205  pixel205  60000 non-null  int64\n",
      " 206  pixel206  60000 non-null  int64\n",
      " 207  pixel207  60000 non-null  int64\n",
      " 208  pixel208  60000 non-null  int64\n",
      " 209  pixel209  60000 non-null  int64\n",
      " 210  pixel210  60000 non-null  int64\n",
      " 211  pixel211  60000 non-null  int64\n",
      " 212  pixel212  60000 non-null  int64\n",
      " 213  pixel213  60000 non-null  int64\n",
      " 214  pixel214  60000 non-null  int64\n",
      " 215  pixel215  60000 non-null  int64\n",
      " 216  pixel216  60000 non-null  int64\n",
      " 217  pixel217  60000 non-null  int64\n",
      " 218  pixel218  60000 non-null  int64\n",
      " 219  pixel219  60000 non-null  int64\n",
      " 220  pixel220  60000 non-null  int64\n",
      " 221  pixel221  60000 non-null  int64\n",
      " 222  pixel222  60000 non-null  int64\n",
      " 223  pixel223  60000 non-null  int64\n",
      " 224  pixel224  60000 non-null  int64\n",
      " 225  pixel225  60000 non-null  int64\n",
      " 226  pixel226  60000 non-null  int64\n",
      " 227  pixel227  60000 non-null  int64\n",
      " 228  pixel228  60000 non-null  int64\n",
      " 229  pixel229  60000 non-null  int64\n",
      " 230  pixel230  60000 non-null  int64\n",
      " 231  pixel231  60000 non-null  int64\n",
      " 232  pixel232  60000 non-null  int64\n",
      " 233  pixel233  60000 non-null  int64\n",
      " 234  pixel234  60000 non-null  int64\n",
      " 235  pixel235  60000 non-null  int64\n",
      " 236  pixel236  60000 non-null  int64\n",
      " 237  pixel237  60000 non-null  int64\n",
      " 238  pixel238  60000 non-null  int64\n",
      " 239  pixel239  60000 non-null  int64\n",
      " 240  pixel240  60000 non-null  int64\n",
      " 241  pixel241  60000 non-null  int64\n",
      " 242  pixel242  60000 non-null  int64\n",
      " 243  pixel243  60000 non-null  int64\n",
      " 244  pixel244  60000 non-null  int64\n",
      " 245  pixel245  60000 non-null  int64\n",
      " 246  pixel246  60000 non-null  int64\n",
      " 247  pixel247  60000 non-null  int64\n",
      " 248  pixel248  60000 non-null  int64\n",
      " 249  pixel249  60000 non-null  int64\n",
      " 250  pixel250  60000 non-null  int64\n",
      " 251  pixel251  60000 non-null  int64\n",
      " 252  pixel252  60000 non-null  int64\n",
      " 253  pixel253  60000 non-null  int64\n",
      " 254  pixel254  60000 non-null  int64\n",
      " 255  pixel255  60000 non-null  int64\n",
      " 256  pixel256  60000 non-null  int64\n",
      " 257  pixel257  60000 non-null  int64\n",
      " 258  pixel258  60000 non-null  int64\n",
      " 259  pixel259  60000 non-null  int64\n",
      " 260  pixel260  60000 non-null  int64\n",
      " 261  pixel261  60000 non-null  int64\n",
      " 262  pixel262  60000 non-null  int64\n",
      " 263  pixel263  60000 non-null  int64\n",
      " 264  pixel264  60000 non-null  int64\n",
      " 265  pixel265  60000 non-null  int64\n",
      " 266  pixel266  60000 non-null  int64\n",
      " 267  pixel267  60000 non-null  int64\n",
      " 268  pixel268  60000 non-null  int64\n",
      " 269  pixel269  60000 non-null  int64\n",
      " 270  pixel270  60000 non-null  int64\n",
      " 271  pixel271  60000 non-null  int64\n",
      " 272  pixel272  60000 non-null  int64\n",
      " 273  pixel273  60000 non-null  int64\n",
      " 274  pixel274  60000 non-null  int64\n",
      " 275  pixel275  60000 non-null  int64\n",
      " 276  pixel276  60000 non-null  int64\n",
      " 277  pixel277  60000 non-null  int64\n",
      " 278  pixel278  60000 non-null  int64\n",
      " 279  pixel279  60000 non-null  int64\n",
      " 280  pixel280  60000 non-null  int64\n",
      " 281  pixel281  60000 non-null  int64\n",
      " 282  pixel282  60000 non-null  int64\n",
      " 283  pixel283  60000 non-null  int64\n",
      " 284  pixel284  60000 non-null  int64\n",
      " 285  pixel285  60000 non-null  int64\n",
      " 286  pixel286  60000 non-null  int64\n",
      " 287  pixel287  60000 non-null  int64\n",
      " 288  pixel288  60000 non-null  int64\n",
      " 289  pixel289  60000 non-null  int64\n",
      " 290  pixel290  60000 non-null  int64\n",
      " 291  pixel291  60000 non-null  int64\n",
      " 292  pixel292  60000 non-null  int64\n",
      " 293  pixel293  60000 non-null  int64\n",
      " 294  pixel294  60000 non-null  int64\n",
      " 295  pixel295  60000 non-null  int64\n",
      " 296  pixel296  60000 non-null  int64\n",
      " 297  pixel297  60000 non-null  int64\n",
      " 298  pixel298  60000 non-null  int64\n",
      " 299  pixel299  60000 non-null  int64\n",
      " 300  pixel300  60000 non-null  int64\n",
      " 301  pixel301  60000 non-null  int64\n",
      " 302  pixel302  60000 non-null  int64\n",
      " 303  pixel303  60000 non-null  int64\n",
      " 304  pixel304  60000 non-null  int64\n",
      " 305  pixel305  60000 non-null  int64\n",
      " 306  pixel306  60000 non-null  int64\n",
      " 307  pixel307  60000 non-null  int64\n",
      " 308  pixel308  60000 non-null  int64\n",
      " 309  pixel309  60000 non-null  int64\n",
      " 310  pixel310  60000 non-null  int64\n",
      " 311  pixel311  60000 non-null  int64\n",
      " 312  pixel312  60000 non-null  int64\n",
      " 313  pixel313  60000 non-null  int64\n",
      " 314  pixel314  60000 non-null  int64\n",
      " 315  pixel315  60000 non-null  int64\n",
      " 316  pixel316  60000 non-null  int64\n",
      " 317  pixel317  60000 non-null  int64\n",
      " 318  pixel318  60000 non-null  int64\n",
      " 319  pixel319  60000 non-null  int64\n",
      " 320  pixel320  60000 non-null  int64\n",
      " 321  pixel321  60000 non-null  int64\n",
      " 322  pixel322  60000 non-null  int64\n",
      " 323  pixel323  60000 non-null  int64\n",
      " 324  pixel324  60000 non-null  int64\n",
      " 325  pixel325  60000 non-null  int64\n",
      " 326  pixel326  60000 non-null  int64\n",
      " 327  pixel327  60000 non-null  int64\n",
      " 328  pixel328  60000 non-null  int64\n",
      " 329  pixel329  60000 non-null  int64\n",
      " 330  pixel330  60000 non-null  int64\n",
      " 331  pixel331  60000 non-null  int64\n",
      " 332  pixel332  60000 non-null  int64\n",
      " 333  pixel333  60000 non-null  int64\n",
      " 334  pixel334  60000 non-null  int64\n",
      " 335  pixel335  60000 non-null  int64\n",
      " 336  pixel336  60000 non-null  int64\n",
      " 337  pixel337  60000 non-null  int64\n",
      " 338  pixel338  60000 non-null  int64\n",
      " 339  pixel339  60000 non-null  int64\n",
      " 340  pixel340  60000 non-null  int64\n",
      " 341  pixel341  60000 non-null  int64\n",
      " 342  pixel342  60000 non-null  int64\n",
      " 343  pixel343  60000 non-null  int64\n",
      " 344  pixel344  60000 non-null  int64\n",
      " 345  pixel345  60000 non-null  int64\n",
      " 346  pixel346  60000 non-null  int64\n",
      " 347  pixel347  60000 non-null  int64\n",
      " 348  pixel348  60000 non-null  int64\n",
      " 349  pixel349  60000 non-null  int64\n",
      " 350  pixel350  60000 non-null  int64\n",
      " 351  pixel351  60000 non-null  int64\n",
      " 352  pixel352  60000 non-null  int64\n",
      " 353  pixel353  60000 non-null  int64\n",
      " 354  pixel354  60000 non-null  int64\n",
      " 355  pixel355  60000 non-null  int64\n",
      " 356  pixel356  60000 non-null  int64\n",
      " 357  pixel357  60000 non-null  int64\n",
      " 358  pixel358  60000 non-null  int64\n",
      " 359  pixel359  60000 non-null  int64\n",
      " 360  pixel360  60000 non-null  int64\n",
      " 361  pixel361  60000 non-null  int64\n",
      " 362  pixel362  60000 non-null  int64\n",
      " 363  pixel363  60000 non-null  int64\n",
      " 364  pixel364  60000 non-null  int64\n",
      " 365  pixel365  60000 non-null  int64\n",
      " 366  pixel366  60000 non-null  int64\n",
      " 367  pixel367  60000 non-null  int64\n",
      " 368  pixel368  60000 non-null  int64\n",
      " 369  pixel369  60000 non-null  int64\n",
      " 370  pixel370  60000 non-null  int64\n",
      " 371  pixel371  60000 non-null  int64\n",
      " 372  pixel372  60000 non-null  int64\n",
      " 373  pixel373  60000 non-null  int64\n",
      " 374  pixel374  60000 non-null  int64\n",
      " 375  pixel375  60000 non-null  int64\n",
      " 376  pixel376  60000 non-null  int64\n",
      " 377  pixel377  60000 non-null  int64\n",
      " 378  pixel378  60000 non-null  int64\n",
      " 379  pixel379  60000 non-null  int64\n",
      " 380  pixel380  60000 non-null  int64\n",
      " 381  pixel381  60000 non-null  int64\n",
      " 382  pixel382  60000 non-null  int64\n",
      " 383  pixel383  60000 non-null  int64\n",
      " 384  pixel384  60000 non-null  int64\n",
      " 385  pixel385  60000 non-null  int64\n",
      " 386  pixel386  60000 non-null  int64\n",
      " 387  pixel387  60000 non-null  int64\n",
      " 388  pixel388  60000 non-null  int64\n",
      " 389  pixel389  60000 non-null  int64\n",
      " 390  pixel390  60000 non-null  int64\n",
      " 391  pixel391  60000 non-null  int64\n",
      " 392  pixel392  60000 non-null  int64\n",
      " 393  pixel393  60000 non-null  int64\n",
      " 394  pixel394  60000 non-null  int64\n",
      " 395  pixel395  60000 non-null  int64\n",
      " 396  pixel396  60000 non-null  int64\n",
      " 397  pixel397  60000 non-null  int64\n",
      " 398  pixel398  60000 non-null  int64\n",
      " 399  pixel399  60000 non-null  int64\n",
      " 400  pixel400  60000 non-null  int64\n",
      " 401  pixel401  60000 non-null  int64\n",
      " 402  pixel402  60000 non-null  int64\n",
      " 403  pixel403  60000 non-null  int64\n",
      " 404  pixel404  60000 non-null  int64\n",
      " 405  pixel405  60000 non-null  int64\n",
      " 406  pixel406  60000 non-null  int64\n",
      " 407  pixel407  60000 non-null  int64\n",
      " 408  pixel408  60000 non-null  int64\n",
      " 409  pixel409  60000 non-null  int64\n",
      " 410  pixel410  60000 non-null  int64\n",
      " 411  pixel411  60000 non-null  int64\n",
      " 412  pixel412  60000 non-null  int64\n",
      " 413  pixel413  60000 non-null  int64\n",
      " 414  pixel414  60000 non-null  int64\n",
      " 415  pixel415  60000 non-null  int64\n",
      " 416  pixel416  60000 non-null  int64\n",
      " 417  pixel417  60000 non-null  int64\n",
      " 418  pixel418  60000 non-null  int64\n",
      " 419  pixel419  60000 non-null  int64\n",
      " 420  pixel420  60000 non-null  int64\n",
      " 421  pixel421  60000 non-null  int64\n",
      " 422  pixel422  60000 non-null  int64\n",
      " 423  pixel423  60000 non-null  int64\n",
      " 424  pixel424  60000 non-null  int64\n",
      " 425  pixel425  60000 non-null  int64\n",
      " 426  pixel426  60000 non-null  int64\n",
      " 427  pixel427  60000 non-null  int64\n",
      " 428  pixel428  60000 non-null  int64\n",
      " 429  pixel429  60000 non-null  int64\n",
      " 430  pixel430  60000 non-null  int64\n",
      " 431  pixel431  60000 non-null  int64\n",
      " 432  pixel432  60000 non-null  int64\n",
      " 433  pixel433  60000 non-null  int64\n",
      " 434  pixel434  60000 non-null  int64\n",
      " 435  pixel435  60000 non-null  int64\n",
      " 436  pixel436  60000 non-null  int64\n",
      " 437  pixel437  60000 non-null  int64\n",
      " 438  pixel438  60000 non-null  int64\n",
      " 439  pixel439  60000 non-null  int64\n",
      " 440  pixel440  60000 non-null  int64\n",
      " 441  pixel441  60000 non-null  int64\n",
      " 442  pixel442  60000 non-null  int64\n",
      " 443  pixel443  60000 non-null  int64\n",
      " 444  pixel444  60000 non-null  int64\n",
      " 445  pixel445  60000 non-null  int64\n",
      " 446  pixel446  60000 non-null  int64\n",
      " 447  pixel447  60000 non-null  int64\n",
      " 448  pixel448  60000 non-null  int64\n",
      " 449  pixel449  60000 non-null  int64\n",
      " 450  pixel450  60000 non-null  int64\n",
      " 451  pixel451  60000 non-null  int64\n",
      " 452  pixel452  60000 non-null  int64\n",
      " 453  pixel453  60000 non-null  int64\n",
      " 454  pixel454  60000 non-null  int64\n",
      " 455  pixel455  60000 non-null  int64\n",
      " 456  pixel456  60000 non-null  int64\n",
      " 457  pixel457  60000 non-null  int64\n",
      " 458  pixel458  60000 non-null  int64\n",
      " 459  pixel459  60000 non-null  int64\n",
      " 460  pixel460  60000 non-null  int64\n",
      " 461  pixel461  60000 non-null  int64\n",
      " 462  pixel462  60000 non-null  int64\n",
      " 463  pixel463  60000 non-null  int64\n",
      " 464  pixel464  60000 non-null  int64\n",
      " 465  pixel465  60000 non-null  int64\n",
      " 466  pixel466  60000 non-null  int64\n",
      " 467  pixel467  60000 non-null  int64\n",
      " 468  pixel468  60000 non-null  int64\n",
      " 469  pixel469  60000 non-null  int64\n",
      " 470  pixel470  60000 non-null  int64\n",
      " 471  pixel471  60000 non-null  int64\n",
      " 472  pixel472  60000 non-null  int64\n",
      " 473  pixel473  60000 non-null  int64\n",
      " 474  pixel474  60000 non-null  int64\n",
      " 475  pixel475  60000 non-null  int64\n",
      " 476  pixel476  60000 non-null  int64\n",
      " 477  pixel477  60000 non-null  int64\n",
      " 478  pixel478  60000 non-null  int64\n",
      " 479  pixel479  60000 non-null  int64\n",
      " 480  pixel480  60000 non-null  int64\n",
      " 481  pixel481  60000 non-null  int64\n",
      " 482  pixel482  60000 non-null  int64\n",
      " 483  pixel483  60000 non-null  int64\n",
      " 484  pixel484  60000 non-null  int64\n",
      " 485  pixel485  60000 non-null  int64\n",
      " 486  pixel486  60000 non-null  int64\n",
      " 487  pixel487  60000 non-null  int64\n",
      " 488  pixel488  60000 non-null  int64\n",
      " 489  pixel489  60000 non-null  int64\n",
      " 490  pixel490  60000 non-null  int64\n",
      " 491  pixel491  60000 non-null  int64\n",
      " 492  pixel492  60000 non-null  int64\n",
      " 493  pixel493  60000 non-null  int64\n",
      " 494  pixel494  60000 non-null  int64\n",
      " 495  pixel495  60000 non-null  int64\n",
      " 496  pixel496  60000 non-null  int64\n",
      " 497  pixel497  60000 non-null  int64\n",
      " 498  pixel498  60000 non-null  int64\n",
      " 499  pixel499  60000 non-null  int64\n",
      " 500  pixel500  60000 non-null  int64\n",
      " 501  pixel501  60000 non-null  int64\n",
      " 502  pixel502  60000 non-null  int64\n",
      " 503  pixel503  60000 non-null  int64\n",
      " 504  pixel504  60000 non-null  int64\n",
      " 505  pixel505  60000 non-null  int64\n",
      " 506  pixel506  60000 non-null  int64\n",
      " 507  pixel507  60000 non-null  int64\n",
      " 508  pixel508  60000 non-null  int64\n",
      " 509  pixel509  60000 non-null  int64\n",
      " 510  pixel510  60000 non-null  int64\n",
      " 511  pixel511  60000 non-null  int64\n",
      " 512  pixel512  60000 non-null  int64\n",
      " 513  pixel513  60000 non-null  int64\n",
      " 514  pixel514  60000 non-null  int64\n",
      " 515  pixel515  60000 non-null  int64\n",
      " 516  pixel516  60000 non-null  int64\n",
      " 517  pixel517  60000 non-null  int64\n",
      " 518  pixel518  60000 non-null  int64\n",
      " 519  pixel519  60000 non-null  int64\n",
      " 520  pixel520  60000 non-null  int64\n",
      " 521  pixel521  60000 non-null  int64\n",
      " 522  pixel522  60000 non-null  int64\n",
      " 523  pixel523  60000 non-null  int64\n",
      " 524  pixel524  60000 non-null  int64\n",
      " 525  pixel525  60000 non-null  int64\n",
      " 526  pixel526  60000 non-null  int64\n",
      " 527  pixel527  60000 non-null  int64\n",
      " 528  pixel528  60000 non-null  int64\n",
      " 529  pixel529  60000 non-null  int64\n",
      " 530  pixel530  60000 non-null  int64\n",
      " 531  pixel531  60000 non-null  int64\n",
      " 532  pixel532  60000 non-null  int64\n",
      " 533  pixel533  60000 non-null  int64\n",
      " 534  pixel534  60000 non-null  int64\n",
      " 535  pixel535  60000 non-null  int64\n",
      " 536  pixel536  60000 non-null  int64\n",
      " 537  pixel537  60000 non-null  int64\n",
      " 538  pixel538  60000 non-null  int64\n",
      " 539  pixel539  60000 non-null  int64\n",
      " 540  pixel540  60000 non-null  int64\n",
      " 541  pixel541  60000 non-null  int64\n",
      " 542  pixel542  60000 non-null  int64\n",
      " 543  pixel543  60000 non-null  int64\n",
      " 544  pixel544  60000 non-null  int64\n",
      " 545  pixel545  60000 non-null  int64\n",
      " 546  pixel546  60000 non-null  int64\n",
      " 547  pixel547  60000 non-null  int64\n",
      " 548  pixel548  60000 non-null  int64\n",
      " 549  pixel549  60000 non-null  int64\n",
      " 550  pixel550  60000 non-null  int64\n",
      " 551  pixel551  60000 non-null  int64\n",
      " 552  pixel552  60000 non-null  int64\n",
      " 553  pixel553  60000 non-null  int64\n",
      " 554  pixel554  60000 non-null  int64\n",
      " 555  pixel555  60000 non-null  int64\n",
      " 556  pixel556  60000 non-null  int64\n",
      " 557  pixel557  60000 non-null  int64\n",
      " 558  pixel558  60000 non-null  int64\n",
      " 559  pixel559  60000 non-null  int64\n",
      " 560  pixel560  60000 non-null  int64\n",
      " 561  pixel561  60000 non-null  int64\n",
      " 562  pixel562  60000 non-null  int64\n",
      " 563  pixel563  60000 non-null  int64\n",
      " 564  pixel564  60000 non-null  int64\n",
      " 565  pixel565  60000 non-null  int64\n",
      " 566  pixel566  60000 non-null  int64\n",
      " 567  pixel567  60000 non-null  int64\n",
      " 568  pixel568  60000 non-null  int64\n",
      " 569  pixel569  60000 non-null  int64\n",
      " 570  pixel570  60000 non-null  int64\n",
      " 571  pixel571  60000 non-null  int64\n",
      " 572  pixel572  60000 non-null  int64\n",
      " 573  pixel573  60000 non-null  int64\n",
      " 574  pixel574  60000 non-null  int64\n",
      " 575  pixel575  60000 non-null  int64\n",
      " 576  pixel576  60000 non-null  int64\n",
      " 577  pixel577  60000 non-null  int64\n",
      " 578  pixel578  60000 non-null  int64\n",
      " 579  pixel579  60000 non-null  int64\n",
      " 580  pixel580  60000 non-null  int64\n",
      " 581  pixel581  60000 non-null  int64\n",
      " 582  pixel582  60000 non-null  int64\n",
      " 583  pixel583  60000 non-null  int64\n",
      " 584  pixel584  60000 non-null  int64\n",
      " 585  pixel585  60000 non-null  int64\n",
      " 586  pixel586  60000 non-null  int64\n",
      " 587  pixel587  60000 non-null  int64\n",
      " 588  pixel588  60000 non-null  int64\n",
      " 589  pixel589  60000 non-null  int64\n",
      " 590  pixel590  60000 non-null  int64\n",
      " 591  pixel591  60000 non-null  int64\n",
      " 592  pixel592  60000 non-null  int64\n",
      " 593  pixel593  60000 non-null  int64\n",
      " 594  pixel594  60000 non-null  int64\n",
      " 595  pixel595  60000 non-null  int64\n",
      " 596  pixel596  60000 non-null  int64\n",
      " 597  pixel597  60000 non-null  int64\n",
      " 598  pixel598  60000 non-null  int64\n",
      " 599  pixel599  60000 non-null  int64\n",
      " 600  pixel600  60000 non-null  int64\n",
      " 601  pixel601  60000 non-null  int64\n",
      " 602  pixel602  60000 non-null  int64\n",
      " 603  pixel603  60000 non-null  int64\n",
      " 604  pixel604  60000 non-null  int64\n",
      " 605  pixel605  60000 non-null  int64\n",
      " 606  pixel606  60000 non-null  int64\n",
      " 607  pixel607  60000 non-null  int64\n",
      " 608  pixel608  60000 non-null  int64\n",
      " 609  pixel609  60000 non-null  int64\n",
      " 610  pixel610  60000 non-null  int64\n",
      " 611  pixel611  60000 non-null  int64\n",
      " 612  pixel612  60000 non-null  int64\n",
      " 613  pixel613  60000 non-null  int64\n",
      " 614  pixel614  60000 non-null  int64\n",
      " 615  pixel615  60000 non-null  int64\n",
      " 616  pixel616  60000 non-null  int64\n",
      " 617  pixel617  60000 non-null  int64\n",
      " 618  pixel618  60000 non-null  int64\n",
      " 619  pixel619  60000 non-null  int64\n",
      " 620  pixel620  60000 non-null  int64\n",
      " 621  pixel621  60000 non-null  int64\n",
      " 622  pixel622  60000 non-null  int64\n",
      " 623  pixel623  60000 non-null  int64\n",
      " 624  pixel624  60000 non-null  int64\n",
      " 625  pixel625  60000 non-null  int64\n",
      " 626  pixel626  60000 non-null  int64\n",
      " 627  pixel627  60000 non-null  int64\n",
      " 628  pixel628  60000 non-null  int64\n",
      " 629  pixel629  60000 non-null  int64\n",
      " 630  pixel630  60000 non-null  int64\n",
      " 631  pixel631  60000 non-null  int64\n",
      " 632  pixel632  60000 non-null  int64\n",
      " 633  pixel633  60000 non-null  int64\n",
      " 634  pixel634  60000 non-null  int64\n",
      " 635  pixel635  60000 non-null  int64\n",
      " 636  pixel636  60000 non-null  int64\n",
      " 637  pixel637  60000 non-null  int64\n",
      " 638  pixel638  60000 non-null  int64\n",
      " 639  pixel639  60000 non-null  int64\n",
      " 640  pixel640  60000 non-null  int64\n",
      " 641  pixel641  60000 non-null  int64\n",
      " 642  pixel642  60000 non-null  int64\n",
      " 643  pixel643  60000 non-null  int64\n",
      " 644  pixel644  60000 non-null  int64\n",
      " 645  pixel645  60000 non-null  int64\n",
      " 646  pixel646  60000 non-null  int64\n",
      " 647  pixel647  60000 non-null  int64\n",
      " 648  pixel648  60000 non-null  int64\n",
      " 649  pixel649  60000 non-null  int64\n",
      " 650  pixel650  60000 non-null  int64\n",
      " 651  pixel651  60000 non-null  int64\n",
      " 652  pixel652  60000 non-null  int64\n",
      " 653  pixel653  60000 non-null  int64\n",
      " 654  pixel654  60000 non-null  int64\n",
      " 655  pixel655  60000 non-null  int64\n",
      " 656  pixel656  60000 non-null  int64\n",
      " 657  pixel657  60000 non-null  int64\n",
      " 658  pixel658  60000 non-null  int64\n",
      " 659  pixel659  60000 non-null  int64\n",
      " 660  pixel660  60000 non-null  int64\n",
      " 661  pixel661  60000 non-null  int64\n",
      " 662  pixel662  60000 non-null  int64\n",
      " 663  pixel663  60000 non-null  int64\n",
      " 664  pixel664  60000 non-null  int64\n",
      " 665  pixel665  60000 non-null  int64\n",
      " 666  pixel666  60000 non-null  int64\n",
      " 667  pixel667  60000 non-null  int64\n",
      " 668  pixel668  60000 non-null  int64\n",
      " 669  pixel669  60000 non-null  int64\n",
      " 670  pixel670  60000 non-null  int64\n",
      " 671  pixel671  60000 non-null  int64\n",
      " 672  pixel672  60000 non-null  int64\n",
      " 673  pixel673  60000 non-null  int64\n",
      " 674  pixel674  60000 non-null  int64\n",
      " 675  pixel675  60000 non-null  int64\n",
      " 676  pixel676  60000 non-null  int64\n",
      " 677  pixel677  60000 non-null  int64\n",
      " 678  pixel678  60000 non-null  int64\n",
      " 679  pixel679  60000 non-null  int64\n",
      " 680  pixel680  60000 non-null  int64\n",
      " 681  pixel681  60000 non-null  int64\n",
      " 682  pixel682  60000 non-null  int64\n",
      " 683  pixel683  60000 non-null  int64\n",
      " 684  pixel684  60000 non-null  int64\n",
      " 685  pixel685  60000 non-null  int64\n",
      " 686  pixel686  60000 non-null  int64\n",
      " 687  pixel687  60000 non-null  int64\n",
      " 688  pixel688  60000 non-null  int64\n",
      " 689  pixel689  60000 non-null  int64\n",
      " 690  pixel690  60000 non-null  int64\n",
      " 691  pixel691  60000 non-null  int64\n",
      " 692  pixel692  60000 non-null  int64\n",
      " 693  pixel693  60000 non-null  int64\n",
      " 694  pixel694  60000 non-null  int64\n",
      " 695  pixel695  60000 non-null  int64\n",
      " 696  pixel696  60000 non-null  int64\n",
      " 697  pixel697  60000 non-null  int64\n",
      " 698  pixel698  60000 non-null  int64\n",
      " 699  pixel699  60000 non-null  int64\n",
      " 700  pixel700  60000 non-null  int64\n",
      " 701  pixel701  60000 non-null  int64\n",
      " 702  pixel702  60000 non-null  int64\n",
      " 703  pixel703  60000 non-null  int64\n",
      " 704  pixel704  60000 non-null  int64\n",
      " 705  pixel705  60000 non-null  int64\n",
      " 706  pixel706  60000 non-null  int64\n",
      " 707  pixel707  60000 non-null  int64\n",
      " 708  pixel708  60000 non-null  int64\n",
      " 709  pixel709  60000 non-null  int64\n",
      " 710  pixel710  60000 non-null  int64\n",
      " 711  pixel711  60000 non-null  int64\n",
      " 712  pixel712  60000 non-null  int64\n",
      " 713  pixel713  60000 non-null  int64\n",
      " 714  pixel714  60000 non-null  int64\n",
      " 715  pixel715  60000 non-null  int64\n",
      " 716  pixel716  60000 non-null  int64\n",
      " 717  pixel717  60000 non-null  int64\n",
      " 718  pixel718  60000 non-null  int64\n",
      " 719  pixel719  60000 non-null  int64\n",
      " 720  pixel720  60000 non-null  int64\n",
      " 721  pixel721  60000 non-null  int64\n",
      " 722  pixel722  60000 non-null  int64\n",
      " 723  pixel723  60000 non-null  int64\n",
      " 724  pixel724  60000 non-null  int64\n",
      " 725  pixel725  60000 non-null  int64\n",
      " 726  pixel726  60000 non-null  int64\n",
      " 727  pixel727  60000 non-null  int64\n",
      " 728  pixel728  60000 non-null  int64\n",
      " 729  pixel729  60000 non-null  int64\n",
      " 730  pixel730  60000 non-null  int64\n",
      " 731  pixel731  60000 non-null  int64\n",
      " 732  pixel732  60000 non-null  int64\n",
      " 733  pixel733  60000 non-null  int64\n",
      " 734  pixel734  60000 non-null  int64\n",
      " 735  pixel735  60000 non-null  int64\n",
      " 736  pixel736  60000 non-null  int64\n",
      " 737  pixel737  60000 non-null  int64\n",
      " 738  pixel738  60000 non-null  int64\n",
      " 739  pixel739  60000 non-null  int64\n",
      " 740  pixel740  60000 non-null  int64\n",
      " 741  pixel741  60000 non-null  int64\n",
      " 742  pixel742  60000 non-null  int64\n",
      " 743  pixel743  60000 non-null  int64\n",
      " 744  pixel744  60000 non-null  int64\n",
      " 745  pixel745  60000 non-null  int64\n",
      " 746  pixel746  60000 non-null  int64\n",
      " 747  pixel747  60000 non-null  int64\n",
      " 748  pixel748  60000 non-null  int64\n",
      " 749  pixel749  60000 non-null  int64\n",
      " 750  pixel750  60000 non-null  int64\n",
      " 751  pixel751  60000 non-null  int64\n",
      " 752  pixel752  60000 non-null  int64\n",
      " 753  pixel753  60000 non-null  int64\n",
      " 754  pixel754  60000 non-null  int64\n",
      " 755  pixel755  60000 non-null  int64\n",
      " 756  pixel756  60000 non-null  int64\n",
      " 757  pixel757  60000 non-null  int64\n",
      " 758  pixel758  60000 non-null  int64\n",
      " 759  pixel759  60000 non-null  int64\n",
      " 760  pixel760  60000 non-null  int64\n",
      " 761  pixel761  60000 non-null  int64\n",
      " 762  pixel762  60000 non-null  int64\n",
      " 763  pixel763  60000 non-null  int64\n",
      " 764  pixel764  60000 non-null  int64\n",
      " 765  pixel765  60000 non-null  int64\n",
      " 766  pixel766  60000 non-null  int64\n",
      " 767  pixel767  60000 non-null  int64\n",
      " 768  pixel768  60000 non-null  int64\n",
      " 769  pixel769  60000 non-null  int64\n",
      " 770  pixel770  60000 non-null  int64\n",
      " 771  pixel771  60000 non-null  int64\n",
      " 772  pixel772  60000 non-null  int64\n",
      " 773  pixel773  60000 non-null  int64\n",
      " 774  pixel774  60000 non-null  int64\n",
      " 775  pixel775  60000 non-null  int64\n",
      " 776  pixel776  60000 non-null  int64\n",
      " 777  pixel777  60000 non-null  int64\n",
      " 778  pixel778  60000 non-null  int64\n",
      " 779  pixel779  60000 non-null  int64\n",
      " 780  pixel780  60000 non-null  int64\n",
      " 781  pixel781  60000 non-null  int64\n",
      " 782  pixel782  60000 non-null  int64\n",
      " 783  pixel783  60000 non-null  int64\n",
      " 784  pixel784  60000 non-null  int64\n",
      "dtypes: int64(785)\n",
      "memory usage: 359.3 MB\n"
     ]
    }
   ],
   "source": [
    "df.info(verbose=True,show_counts=True)"
   ]
  },
  {
   "cell_type": "code",
   "execution_count": 8,
   "id": "111d29ae",
   "metadata": {},
   "outputs": [
    {
     "data": {
      "text/plain": [
       "0"
      ]
     },
     "execution_count": 8,
     "metadata": {},
     "output_type": "execute_result"
    }
   ],
   "source": [
    "df.isnull().sum().sum()"
   ]
  },
  {
   "cell_type": "code",
   "execution_count": 9,
   "id": "a3172578",
   "metadata": {},
   "outputs": [
    {
     "data": {
      "text/plain": [
       "0"
      ]
     },
     "execution_count": 9,
     "metadata": {},
     "output_type": "execute_result"
    }
   ],
   "source": [
    "df.isna().sum().sum()"
   ]
  },
  {
   "cell_type": "markdown",
   "id": "521f5c8a",
   "metadata": {},
   "source": [
    "### Detect duplicates "
   ]
  },
  {
   "cell_type": "code",
   "execution_count": 10,
   "id": "1c7ea41b",
   "metadata": {},
   "outputs": [
    {
     "data": {
      "text/plain": [
       "43"
      ]
     },
     "execution_count": 10,
     "metadata": {},
     "output_type": "execute_result"
    }
   ],
   "source": [
    "df.duplicated().sum()"
   ]
  },
  {
   "cell_type": "markdown",
   "id": "bb39e81d",
   "metadata": {},
   "source": [
    "43 duplicates were found !, let's drop them"
   ]
  },
  {
   "cell_type": "code",
   "execution_count": 11,
   "id": "8bdf56c1",
   "metadata": {},
   "outputs": [],
   "source": [
    "df.drop_duplicates(inplace=True)"
   ]
  },
  {
   "cell_type": "code",
   "execution_count": 12,
   "id": "fc34f166",
   "metadata": {},
   "outputs": [
    {
     "data": {
      "text/plain": [
       "0"
      ]
     },
     "execution_count": 12,
     "metadata": {},
     "output_type": "execute_result"
    }
   ],
   "source": [
    "df.duplicated().sum()"
   ]
  },
  {
   "cell_type": "code",
   "execution_count": 13,
   "id": "cdfe4d46",
   "metadata": {},
   "outputs": [
    {
     "data": {
      "text/plain": [
       "(59957, 785)"
      ]
     },
     "execution_count": 13,
     "metadata": {},
     "output_type": "execute_result"
    }
   ],
   "source": [
    "df.shape"
   ]
  },
  {
   "cell_type": "code",
   "execution_count": 14,
   "id": "ce69572a",
   "metadata": {},
   "outputs": [],
   "source": [
    "# save the new data frame then load it again \n",
    "#df.to_csv('Train_data_modified.csv',index=False)"
   ]
  },
  {
   "cell_type": "code",
   "execution_count": 15,
   "id": "4b6f236e",
   "metadata": {},
   "outputs": [],
   "source": [
    "df = pd.read_csv('Train_data_modified.csv')"
   ]
  },
  {
   "cell_type": "code",
   "execution_count": 16,
   "id": "931e8a89",
   "metadata": {},
   "outputs": [
    {
     "data": {
      "text/html": [
       "<div>\n",
       "<style scoped>\n",
       "    .dataframe tbody tr th:only-of-type {\n",
       "        vertical-align: middle;\n",
       "    }\n",
       "\n",
       "    .dataframe tbody tr th {\n",
       "        vertical-align: top;\n",
       "    }\n",
       "\n",
       "    .dataframe thead th {\n",
       "        text-align: right;\n",
       "    }\n",
       "</style>\n",
       "<table border=\"1\" class=\"dataframe\">\n",
       "  <thead>\n",
       "    <tr style=\"text-align: right;\">\n",
       "      <th></th>\n",
       "      <th>label</th>\n",
       "      <th>pixel1</th>\n",
       "      <th>pixel2</th>\n",
       "      <th>pixel3</th>\n",
       "      <th>pixel4</th>\n",
       "      <th>pixel5</th>\n",
       "      <th>pixel6</th>\n",
       "      <th>pixel7</th>\n",
       "      <th>pixel8</th>\n",
       "      <th>pixel9</th>\n",
       "      <th>...</th>\n",
       "      <th>pixel775</th>\n",
       "      <th>pixel776</th>\n",
       "      <th>pixel777</th>\n",
       "      <th>pixel778</th>\n",
       "      <th>pixel779</th>\n",
       "      <th>pixel780</th>\n",
       "      <th>pixel781</th>\n",
       "      <th>pixel782</th>\n",
       "      <th>pixel783</th>\n",
       "      <th>pixel784</th>\n",
       "    </tr>\n",
       "  </thead>\n",
       "  <tbody>\n",
       "    <tr>\n",
       "      <th>0</th>\n",
       "      <td>2</td>\n",
       "      <td>0</td>\n",
       "      <td>0</td>\n",
       "      <td>0</td>\n",
       "      <td>0</td>\n",
       "      <td>0</td>\n",
       "      <td>0</td>\n",
       "      <td>0</td>\n",
       "      <td>0</td>\n",
       "      <td>0</td>\n",
       "      <td>...</td>\n",
       "      <td>0</td>\n",
       "      <td>0</td>\n",
       "      <td>0</td>\n",
       "      <td>0</td>\n",
       "      <td>0</td>\n",
       "      <td>0</td>\n",
       "      <td>0</td>\n",
       "      <td>0</td>\n",
       "      <td>0</td>\n",
       "      <td>0</td>\n",
       "    </tr>\n",
       "    <tr>\n",
       "      <th>1</th>\n",
       "      <td>9</td>\n",
       "      <td>0</td>\n",
       "      <td>0</td>\n",
       "      <td>0</td>\n",
       "      <td>0</td>\n",
       "      <td>0</td>\n",
       "      <td>0</td>\n",
       "      <td>0</td>\n",
       "      <td>0</td>\n",
       "      <td>0</td>\n",
       "      <td>...</td>\n",
       "      <td>0</td>\n",
       "      <td>0</td>\n",
       "      <td>0</td>\n",
       "      <td>0</td>\n",
       "      <td>0</td>\n",
       "      <td>0</td>\n",
       "      <td>0</td>\n",
       "      <td>0</td>\n",
       "      <td>0</td>\n",
       "      <td>0</td>\n",
       "    </tr>\n",
       "    <tr>\n",
       "      <th>2</th>\n",
       "      <td>6</td>\n",
       "      <td>0</td>\n",
       "      <td>0</td>\n",
       "      <td>0</td>\n",
       "      <td>0</td>\n",
       "      <td>0</td>\n",
       "      <td>0</td>\n",
       "      <td>0</td>\n",
       "      <td>5</td>\n",
       "      <td>0</td>\n",
       "      <td>...</td>\n",
       "      <td>0</td>\n",
       "      <td>0</td>\n",
       "      <td>0</td>\n",
       "      <td>30</td>\n",
       "      <td>43</td>\n",
       "      <td>0</td>\n",
       "      <td>0</td>\n",
       "      <td>0</td>\n",
       "      <td>0</td>\n",
       "      <td>0</td>\n",
       "    </tr>\n",
       "    <tr>\n",
       "      <th>3</th>\n",
       "      <td>0</td>\n",
       "      <td>0</td>\n",
       "      <td>0</td>\n",
       "      <td>0</td>\n",
       "      <td>1</td>\n",
       "      <td>2</td>\n",
       "      <td>0</td>\n",
       "      <td>0</td>\n",
       "      <td>0</td>\n",
       "      <td>0</td>\n",
       "      <td>...</td>\n",
       "      <td>3</td>\n",
       "      <td>0</td>\n",
       "      <td>0</td>\n",
       "      <td>0</td>\n",
       "      <td>0</td>\n",
       "      <td>1</td>\n",
       "      <td>0</td>\n",
       "      <td>0</td>\n",
       "      <td>0</td>\n",
       "      <td>0</td>\n",
       "    </tr>\n",
       "    <tr>\n",
       "      <th>4</th>\n",
       "      <td>3</td>\n",
       "      <td>0</td>\n",
       "      <td>0</td>\n",
       "      <td>0</td>\n",
       "      <td>0</td>\n",
       "      <td>0</td>\n",
       "      <td>0</td>\n",
       "      <td>0</td>\n",
       "      <td>0</td>\n",
       "      <td>0</td>\n",
       "      <td>...</td>\n",
       "      <td>0</td>\n",
       "      <td>0</td>\n",
       "      <td>0</td>\n",
       "      <td>0</td>\n",
       "      <td>0</td>\n",
       "      <td>0</td>\n",
       "      <td>0</td>\n",
       "      <td>0</td>\n",
       "      <td>0</td>\n",
       "      <td>0</td>\n",
       "    </tr>\n",
       "  </tbody>\n",
       "</table>\n",
       "<p>5 rows × 785 columns</p>\n",
       "</div>"
      ],
      "text/plain": [
       "   label  pixel1  pixel2  pixel3  pixel4  pixel5  pixel6  pixel7  pixel8  \\\n",
       "0      2       0       0       0       0       0       0       0       0   \n",
       "1      9       0       0       0       0       0       0       0       0   \n",
       "2      6       0       0       0       0       0       0       0       5   \n",
       "3      0       0       0       0       1       2       0       0       0   \n",
       "4      3       0       0       0       0       0       0       0       0   \n",
       "\n",
       "   pixel9  ...  pixel775  pixel776  pixel777  pixel778  pixel779  pixel780  \\\n",
       "0       0  ...         0         0         0         0         0         0   \n",
       "1       0  ...         0         0         0         0         0         0   \n",
       "2       0  ...         0         0         0        30        43         0   \n",
       "3       0  ...         3         0         0         0         0         1   \n",
       "4       0  ...         0         0         0         0         0         0   \n",
       "\n",
       "   pixel781  pixel782  pixel783  pixel784  \n",
       "0         0         0         0         0  \n",
       "1         0         0         0         0  \n",
       "2         0         0         0         0  \n",
       "3         0         0         0         0  \n",
       "4         0         0         0         0  \n",
       "\n",
       "[5 rows x 785 columns]"
      ]
     },
     "execution_count": 16,
     "metadata": {},
     "output_type": "execute_result"
    }
   ],
   "source": [
    "df.head()"
   ]
  },
  {
   "cell_type": "code",
   "execution_count": 17,
   "id": "ceae3a61",
   "metadata": {},
   "outputs": [
    {
     "data": {
      "text/plain": [
       "(59957, 785)"
      ]
     },
     "execution_count": 17,
     "metadata": {},
     "output_type": "execute_result"
    }
   ],
   "source": [
    "df.shape"
   ]
  },
  {
   "cell_type": "code",
   "execution_count": 18,
   "id": "e7bd9fbd",
   "metadata": {},
   "outputs": [
    {
     "data": {
      "text/plain": [
       "RangeIndex(start=0, stop=59957, step=1)"
      ]
     },
     "execution_count": 18,
     "metadata": {},
     "output_type": "execute_result"
    }
   ],
   "source": [
    "df.index"
   ]
  },
  {
   "cell_type": "code",
   "execution_count": 19,
   "id": "01d607b8",
   "metadata": {},
   "outputs": [
    {
     "data": {
      "text/plain": [
       "(0, 59956)"
      ]
     },
     "execution_count": 19,
     "metadata": {},
     "output_type": "execute_result"
    }
   ],
   "source": [
    "df.index.min(),df.index.max()"
   ]
  },
  {
   "cell_type": "markdown",
   "id": "63e672a2",
   "metadata": {},
   "source": [
    "### visualize the data "
   ]
  },
  {
   "cell_type": "code",
   "execution_count": 20,
   "id": "43e3ce6f",
   "metadata": {},
   "outputs": [],
   "source": [
    "import matplotlib.pyplot as plt\n",
    "import numpy as np"
   ]
  },
  {
   "cell_type": "code",
   "execution_count": 21,
   "id": "eb6898fa",
   "metadata": {},
   "outputs": [],
   "source": [
    "columns = []\n",
    "for i,column in enumerate(df.columns):\n",
    "    columns.append(column)"
   ]
  },
  {
   "cell_type": "code",
   "execution_count": 22,
   "id": "182e8963",
   "metadata": {},
   "outputs": [],
   "source": [
    "label = columns[0]\n",
    "pixels = columns[1:]"
   ]
  },
  {
   "cell_type": "code",
   "execution_count": 23,
   "id": "275065e9",
   "metadata": {},
   "outputs": [],
   "source": [
    "def show_pixels_distributions(index = 0):\n",
    "    image = np.array(df.loc[index][1:])\n",
    "    label = str(df.loc[index][0])\n",
    "    image = image.reshape(28,28)\n",
    "    pixel_dist = image.sum(axis=0)\n",
    "    x = range(28)\n",
    "    plt.bar(x,pixel_dist)"
   ]
  },
  {
   "cell_type": "code",
   "execution_count": 24,
   "id": "5c3d8321",
   "metadata": {
    "scrolled": false
   },
   "outputs": [
    {
     "data": {
      "image/png": "[encoded data removed]",
      "text/plain": [
       "<Figure size 640x480 with 1 Axes>"
      ]
     },
     "metadata": {},
     "output_type": "display_data"
    }
   ],
   "source": [
    "show_pixels_distributions(1)"
   ]
  },
  {
   "cell_type": "code",
   "execution_count": 25,
   "id": "8998d074",
   "metadata": {},
   "outputs": [
    {
     "data": {
      "text/plain": [
       "<AxesSubplot:ylabel='label'>"
      ]
     },
     "execution_count": 25,
     "metadata": {},
     "output_type": "execute_result"
    },
    {
     "data": {
      "image/png": "[encoded data removed]",
      "text/plain": [
       "<Figure size 640x480 with 1 Axes>"
      ]
     },
     "metadata": {},
     "output_type": "display_data"
    }
   ],
   "source": [
    "df[label].value_counts().plot(kind='pie')"
   ]
  },
  {
   "cell_type": "code",
   "execution_count": 26,
   "id": "08b36255",
   "metadata": {},
   "outputs": [],
   "source": [
    "def draw_pixel_hist(pixel_number = 1):\n",
    "    pixel = \"pixel\" + str(pixel_number)\n",
    "    df[pixel].hist();"
   ]
  },
  {
   "cell_type": "code",
   "execution_count": 27,
   "id": "5d0a1546",
   "metadata": {},
   "outputs": [
    {
     "data": {
      "image/png": "[encoded data removed]",
      "text/plain": [
       "<Figure size 640x480 with 1 Axes>"
      ]
     },
     "metadata": {},
     "output_type": "display_data"
    }
   ],
   "source": [
    "draw_pixel_hist(500)"
   ]
  },
  {
   "cell_type": "code",
   "execution_count": 28,
   "id": "488de8e7",
   "metadata": {},
   "outputs": [],
   "source": [
    "def box_plot(pixel_number = 1):\n",
    "    pixel = 'pixel'  + str(pixel_number)\n",
    "    df[pixel].plot(kind='box')"
   ]
  },
  {
   "cell_type": "code",
   "execution_count": 29,
   "id": "af4d35dd",
   "metadata": {},
   "outputs": [
    {
     "data": {
      "image/png": "[encoded data removed]",
      "text/plain": [
       "<Figure size 640x480 with 1 Axes>"
      ]
     },
     "metadata": {},
     "output_type": "display_data"
    }
   ],
   "source": [
    "box_plot(550)"
   ]
  },
  {
   "cell_type": "markdown",
   "id": "05087006",
   "metadata": {},
   "source": [
    "# Draw the data"
   ]
  },
  {
   "cell_type": "code",
   "execution_count": 30,
   "id": "0963e9b8",
   "metadata": {},
   "outputs": [],
   "source": [
    "classes = {'0':'T-shirt/top',\n",
    "           '1':'Trouser',\n",
    "           '2':'Pullover',\n",
    "           '3':'Dress',\n",
    "           '4':'Coat',\n",
    "           '5':'Sandal',\n",
    "           '6':'Shirt',\n",
    "           '7':'Sneaker',\n",
    "           '8':'Bag',\n",
    "           '9':'Ankle boot'\n",
    "          }"
   ]
  },
  {
   "cell_type": "code",
   "execution_count": 31,
   "id": "5a6fdbf6",
   "metadata": {},
   "outputs": [],
   "source": [
    "def draw(index = 0):\n",
    "    image = np.array(df.loc[index][1:])\n",
    "    label = str(df.loc[index][0])\n",
    "    image = image.reshape(28,28)\n",
    "    fig, (ax0) = plt.subplots(nrows=1,ncols=1,figsize=(2,2))\n",
    "    ax0.imshow(image,cmap='gray',aspect='auto')\n",
    "    plt.title(f\"The image belong to a class: \" + classes[label])"
   ]
  },
  {
   "cell_type": "code",
   "execution_count": 32,
   "id": "76acd377",
   "metadata": {},
   "outputs": [
    {
     "data": {
      "image/png": "[encoded data removed]",
      "text/plain": [
       "<Figure size 200x200 with 1 Axes>"
      ]
     },
     "metadata": {},
     "output_type": "display_data"
    }
   ],
   "source": [
    "draw(0)"
   ]
  },
  {
   "cell_type": "markdown",
   "id": "e11b12da",
   "metadata": {},
   "source": [
    "### carry out required correlation analysis"
   ]
  },
  {
   "cell_type": "code",
   "execution_count": 33,
   "id": "70ab42fd",
   "metadata": {},
   "outputs": [],
   "source": [
    "def show_label_to_pixel_correlation(pixel_number = 1):\n",
    "    pixel = 'pixel' + str(pixel_number)\n",
    "    df.plot(x=pixel,y=label,kind='scatter')"
   ]
  },
  {
   "cell_type": "code",
   "execution_count": 34,
   "id": "7e7cd961",
   "metadata": {},
   "outputs": [
    {
     "data": {
      "image/png": "[encoded data removed]",
      "text/plain": [
       "<Figure size 640x480 with 1 Axes>"
      ]
     },
     "metadata": {},
     "output_type": "display_data"
    }
   ],
   "source": [
    "show_label_to_pixel_correlation(55)"
   ]
  },
  {
   "cell_type": "markdown",
   "id": "889a0c5e",
   "metadata": {},
   "source": [
    "## convert data to numpy arrays"
   ]
  },
  {
   "cell_type": "code",
   "execution_count": 35,
   "id": "1b0e7088",
   "metadata": {},
   "outputs": [
    {
     "data": {
      "text/plain": [
       "array([2, 9, 6, ..., 8, 8, 7], dtype=int64)"
      ]
     },
     "execution_count": 35,
     "metadata": {},
     "output_type": "execute_result"
    }
   ],
   "source": [
    "Y = df['label']\n",
    "Y = Y.to_numpy()\n",
    "Y"
   ]
  },
  {
   "cell_type": "code",
   "execution_count": 36,
   "id": "a27b08ef",
   "metadata": {},
   "outputs": [
    {
     "data": {
      "text/plain": [
       "array([[0, 0, 0, ..., 0, 0, 0],\n",
       "       [0, 0, 0, ..., 0, 0, 0],\n",
       "       [0, 0, 0, ..., 0, 0, 0],\n",
       "       ...,\n",
       "       [0, 0, 0, ..., 0, 0, 0],\n",
       "       [0, 0, 0, ..., 0, 0, 0],\n",
       "       [0, 0, 0, ..., 0, 0, 0]], dtype=int64)"
      ]
     },
     "execution_count": 36,
     "metadata": {},
     "output_type": "execute_result"
    }
   ],
   "source": [
    "X = df[pixels]\n",
    "X = X.to_numpy()\n",
    "X"
   ]
  },
  {
   "cell_type": "code",
   "execution_count": 37,
   "id": "a0f5b8d1",
   "metadata": {},
   "outputs": [
    {
     "data": {
      "text/plain": [
       "((59957, 784), (59957,))"
      ]
     },
     "execution_count": 37,
     "metadata": {},
     "output_type": "execute_result"
    }
   ],
   "source": [
    "X.shape,Y.shape"
   ]
  },
  {
   "cell_type": "markdown",
   "id": "2e637f7e",
   "metadata": {},
   "source": [
    "## splitting the data "
   ]
  },
  {
   "cell_type": "code",
   "execution_count": 38,
   "id": "8acc4561",
   "metadata": {},
   "outputs": [],
   "source": [
    "from sklearn.model_selection import train_test_split"
   ]
  },
  {
   "cell_type": "code",
   "execution_count": 39,
   "id": "ea535491",
   "metadata": {},
   "outputs": [],
   "source": [
    "x_train , x_cv , y_train , y_cv = train_test_split(X,Y,test_size=0.2,random_state=42)"
   ]
  },
  {
   "cell_type": "code",
   "execution_count": 40,
   "id": "41882b53",
   "metadata": {},
   "outputs": [
    {
     "data": {
      "text/plain": [
       "((47965, 784), (47965,))"
      ]
     },
     "execution_count": 40,
     "metadata": {},
     "output_type": "execute_result"
    }
   ],
   "source": [
    "x_train.shape,y_train.shape"
   ]
  },
  {
   "cell_type": "code",
   "execution_count": 41,
   "id": "227c2d99",
   "metadata": {
    "scrolled": true
   },
   "outputs": [
    {
     "data": {
      "text/plain": [
       "((11992, 784), (11992,))"
      ]
     },
     "execution_count": 41,
     "metadata": {},
     "output_type": "execute_result"
    }
   ],
   "source": [
    "x_cv.shape,y_cv.shape"
   ]
  },
  {
   "cell_type": "code",
   "execution_count": 42,
   "id": "192f362a",
   "metadata": {},
   "outputs": [
    {
     "data": {
      "text/plain": [
       "(784,)"
      ]
     },
     "execution_count": 42,
     "metadata": {},
     "output_type": "execute_result"
    }
   ],
   "source": [
    "x_train[0].shape"
   ]
  },
  {
   "cell_type": "markdown",
   "id": "c28585c9",
   "metadata": {},
   "source": [
    "## preprocessing the data "
   ]
  },
  {
   "cell_type": "markdown",
   "id": "f8cd18f2",
   "metadata": {},
   "source": [
    "### wrape the input to be an image "
   ]
  },
  {
   "cell_type": "code",
   "execution_count": 43,
   "id": "b7078d81",
   "metadata": {},
   "outputs": [],
   "source": [
    "from tensorflow.keras.layers import Lambda,Input\n",
    "from tensorflow.keras.models import Model\n",
    "import tensorflow as tf"
   ]
  },
  {
   "cell_type": "code",
   "execution_count": 44,
   "id": "cb61c827",
   "metadata": {},
   "outputs": [],
   "source": [
    "m_train = x_train.shape[0]\n",
    "m_cv = x_cv.shape[0]\n",
    "x_train = x_train.reshape(m_train,28,28)\n",
    "x_cv = x_cv.reshape(m_cv,28,28)"
   ]
  },
  {
   "cell_type": "code",
   "execution_count": 45,
   "id": "90f5875f",
   "metadata": {
    "scrolled": true
   },
   "outputs": [
    {
     "data": {
      "text/plain": [
       "((47965, 28, 28), (11992, 28, 28))"
      ]
     },
     "execution_count": 45,
     "metadata": {},
     "output_type": "execute_result"
    }
   ],
   "source": [
    "x_train.shape,x_cv.shape"
   ]
  },
  {
   "cell_type": "code",
   "execution_count": 46,
   "id": "9834620f",
   "metadata": {},
   "outputs": [],
   "source": [
    "# Normalize and reshape the input images, we expand the shape to contain the axis for the number of channels (so that we have series of 3D images)\n",
    "x_train = np.expand_dims(x_train.astype('float32'), -1) # -1 means that the new axis will be added to the last\n",
    "x_cv = np.expand_dims(x_cv.astype('float32'), -1)"
   ]
  },
  {
   "cell_type": "code",
   "execution_count": 47,
   "id": "d98e82df",
   "metadata": {},
   "outputs": [
    {
     "data": {
      "text/plain": [
       "((47965, 28, 28, 1), (11992, 28, 28, 1))"
      ]
     },
     "execution_count": 47,
     "metadata": {},
     "output_type": "execute_result"
    }
   ],
   "source": [
    "x_train.shape,x_cv.shape"
   ]
  },
  {
   "cell_type": "markdown",
   "id": "76936033",
   "metadata": {},
   "source": [
    "### normalize by dividing by the max"
   ]
  },
  {
   "cell_type": "code",
   "execution_count": 48,
   "id": "2963cf8d",
   "metadata": {},
   "outputs": [],
   "source": [
    "# normalize the values to be from 0 to 1\n",
    "x_train /= 255\n",
    "x_cv /= 255"
   ]
  },
  {
   "cell_type": "markdown",
   "id": "cce8b3f9",
   "metadata": {},
   "source": [
    "## encode the labels"
   ]
  },
  {
   "cell_type": "code",
   "execution_count": 49,
   "id": "ca114af2",
   "metadata": {},
   "outputs": [],
   "source": [
    "from keras.utils import np_utils\n",
    "\n",
    "# convert the labels to one hot vectors  \n",
    "y_train_encoded = np_utils.to_categorical(y_train, 10)\n",
    "y_cv_encoded = np_utils.to_categorical(y_cv, 10)"
   ]
  },
  {
   "cell_type": "code",
   "execution_count": 50,
   "id": "c9b96967",
   "metadata": {},
   "outputs": [
    {
     "data": {
      "text/plain": [
       "((47965, 10), (11992, 10))"
      ]
     },
     "execution_count": 50,
     "metadata": {},
     "output_type": "execute_result"
    }
   ],
   "source": [
    "y_train_encoded.shape,y_cv_encoded.shape"
   ]
  },
  {
   "cell_type": "markdown",
   "id": "3b82511d",
   "metadata": {},
   "source": [
    "## training the NN (LeNet-5)"
   ]
  },
  {
   "cell_type": "code",
   "execution_count": 51,
   "id": "77bca6c0",
   "metadata": {},
   "outputs": [],
   "source": [
    "#define the hyper parameters\n",
    "optimizers = ['sgd','adam','rmsprop']\n",
    "dropouts = [0,0.5,0.8]\n",
    "learning_rates = [1e-6,1e-3,3e-3]\n",
    "kernel_sizes = [3,5]\n",
    "strides = [1,2]\n",
    "activations = ['relu','tanh']"
   ]
  },
  {
   "cell_type": "code",
   "execution_count": 57,
   "id": "ed13e951",
   "metadata": {},
   "outputs": [
    {
     "data": {
      "text/plain": [
       "216"
      ]
     },
     "execution_count": 57,
     "metadata": {},
     "output_type": "execute_result"
    }
   ],
   "source": [
    "2*2*3*3*3*2"
   ]
  },
  {
   "cell_type": "code",
   "execution_count": 53,
   "id": "5b48c707",
   "metadata": {},
   "outputs": [],
   "source": [
    "from tensorflow.keras.callbacks import TensorBoard\n",
    "from keras.models import Sequential\n",
    "from tensorflow import keras\n",
    "import time"
   ]
  },
  {
   "cell_type": "code",
   "execution_count": 56,
   "id": "0320e150",
   "metadata": {
    "scrolled": false
   },
   "outputs": [
    {
     "data": {
      "text/plain": [
       "1672623648"
      ]
     },
     "execution_count": 56,
     "metadata": {},
     "output_type": "execute_result"
    }
   ],
   "source": [
    "int(time.time())"
   ]
  },
  {
   "cell_type": "code",
   "execution_count": null,
   "id": "22b0552c",
   "metadata": {},
   "outputs": [],
   "source": [
    "for optimizer in optimizers:\n",
    "    for dropout in dropouts:\n",
    "        for learning_rate in learning_rates:\n",
    "            for kernel_size in kernel_sizes:\n",
    "                for stride in strides:\n",
    "                    for activation in activations:\n",
    "                        NAME = f\"optimizer {optimizer}- dropout {dropout}- learning rate {learning_rate}- kernel size {kernel_size}- stride {stride} -{int(time.time())}\" \n",
    "                        tensorboard = TensorBoard(log_dir=\"Logs1\\{}\".format(NAME))\n",
    "                        model = Sequential([\n",
    "                            keras.layers.Conv2D(6, kernel_size=kernel_size, strides=stride,  activation=activation, input_shape=x_train[0].shape, padding='same'), #C1\n",
    "                            keras.layers.AveragePooling2D(), #S2\n",
    "                            keras.layers.Conv2D(16, kernel_size=kernel_size, strides=stride, activation=activation, padding='valid'), #C3\n",
    "                            keras.layers.AveragePooling2D(), #S4\n",
    "                            keras.layers.Conv2D(120, kernel_size=kernel_size, strides=stride, activation=activation, padding='valid'), #C5\n",
    "                            keras.layers.Flatten(), #Flatten\n",
    "                            keras.layers.Dropout(dropout),\n",
    "                            keras.layers.Dense(84, activation=activation), #F6\n",
    "                            keras.layers.Dense(10, activation='softmax') #Output layer\n",
    "                        ])\n",
    "                        if optimizer == \"sgd\":\n",
    "                            opt = tf.keras.optimizers.SGD(learning_rate=learning_rate)\n",
    "                        elif optimizer == \"adam\":\n",
    "                            opt = tf.keras.optimizers.Adam(learning_rate=learning_rate)\n",
    "                        elif optimizer == 'rmsprop':\n",
    "                            opt = tf.keras.optimizers.RMSprop(learning_rate=learning_rate)\n",
    "                        model.compile(loss='CategoricalCrossentropy',optimizer=opt,metrics='accuracy')\n",
    "                        model.fit(x_train,y_train_encoded,epochs = 20,callbacks=[tensorboard],validation_data=(x_cv,y_cv_encoded),verbose=2)"
   ]
  }
 ],
 "metadata": {
  "kernelspec": {
   "display_name": "Python [conda env:dllabs]",
   "language": "python",
   "name": "conda-env-dllabs-py"
  },
  "language_info": {
   "codemirror_mode": {
    "name": "ipython",
    "version": 3
   },
   "file_extension": ".py",
   "mimetype": "text/x-python",
   "name": "python",
   "nbconvert_exporter": "python",
   "pygments_lexer": "ipython3",
   "version": "3.8.15"
  }
 },
 "nbformat": 4,
 "nbformat_minor": 5
}
